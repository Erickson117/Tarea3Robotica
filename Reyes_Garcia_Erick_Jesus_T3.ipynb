{
  "nbformat": 4,
  "nbformat_minor": 0,
  "metadata": {
    "colab": {
      "provenance": [],
      "authorship_tag": "ABX9TyNmwV5D2bu3oAudBIBdFtSx",
      "include_colab_link": true
    },
    "kernelspec": {
      "name": "python3",
      "display_name": "Python 3"
    },
    "language_info": {
      "name": "python"
    }
  },
  "cells": [
    {
      "cell_type": "markdown",
      "metadata": {
        "id": "view-in-github",
        "colab_type": "text"
      },
      "source": [
        "<a href=\"https://colab.research.google.com/github/Erickson117/Tarea3Robotica/blob/main/Reyes_Garcia_Erick_Jesus_T3.ipynb\" target=\"_parent\"><img src=\"https://colab.research.google.com/assets/colab-badge.svg\" alt=\"Open In Colab\"/></a>"
      ]
    },
    {
      "cell_type": "code",
      "execution_count": null,
      "metadata": {
        "colab": {
          "base_uri": "https://localhost:8080/"
        },
        "id": "io1OPKaNhT0z",
        "outputId": "f3e3ab42-5ba7-4f2f-fc5b-cb3b691dd45f"
      },
      "outputs": [
        {
          "output_type": "stream",
          "name": "stdout",
          "text": [
            "Ingresa tu valor de theta1: 45\n",
            "Ingresa tu valor de theta2: 60\n",
            "Las coordenadas del efector final se encuentran en: (28.083603452701425,18.893074455010478)\n"
          ]
        }
      ],
      "source": [
        "#Alumno: Reyes Garcia Erick Jesus\n",
        "#Grupo: 1058\n",
        "#Asignatura: Robotica.\n",
        "\n",
        "import math\n",
        "#math.degrees()\n",
        "\n",
        "def calcularXY(theta1,theta2):\n",
        "  #Longitudes de ambos ejes\n",
        "  l1 = 1.3\n",
        "  l2 = 0.8\n",
        "  #Calcular X y Y\n",
        "  x = (l1*math.degrees(math.cos(theta1))) + (l2*math.degrees(math.cos(theta1 + theta2)))\n",
        "  y = (l1*math.degrees(math.sin(theta1))) + (l2*math.degrees(math.sin(theta1 + theta2)))\n",
        "  return f\"({x},{y})\" #valor a regresar\n",
        "\n",
        "#Ingresar los angulos desde el teclado y comprobando que se metan numeros\n",
        "error = 0 #esta variable la uso para evitar que se impriman las coordenadas con los datos en memoria cuando se introducen caracteres invalidos\n",
        "\n",
        "try:\n",
        "  theta1 = int(input(\"Ingresa tu valor de theta1: \"))\n",
        "  theta2 = int(input(\"Ingresa tu valor de theta2: \"))\n",
        "except:\n",
        "  print(\"Estas introduciendo valores no validos\")\n",
        "  error += 1\n",
        "\n",
        "\n",
        "#comprobar que solo se muevan en el rango permitido en este caso el primero va de 0 a 180 y el segundo de 0 a 90\n",
        "if(theta1 < 0 or theta1 > 180 ):\n",
        "  print(\"Valores no validos para theta 1\")\n",
        "elif(theta2 < 0 or theta2 > 90):\n",
        "  print(\"Valores no validos para theta 2\")\n",
        "elif(error == 0):\n",
        "  print(\"Las coordenadas del efector final se encuentran en: \"+calcularXY(theta1,theta2)) #Imprime el resultado\n"
      ]
    }
  ]
}